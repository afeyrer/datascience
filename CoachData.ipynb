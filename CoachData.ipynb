{
 "cells": [
  {
   "cell_type": "markdown",
   "metadata": {},
   "source": [
    "# Football Coach pay data Analysis\n",
    "In this notebook I will analyze data on the pays of coaches of FBS football coaches. I will look at the relationship between how much a head coach of a team is paid and the total pay of all the assistant coaches on the team. \n",
    "Data found at https://sports.usatoday.com/ncaa/salaries/football/coach"
   ]
  },
  {
   "cell_type": "code",
   "execution_count": 10,
   "metadata": {},
   "outputs": [],
   "source": [
    "import matplotlib.pyplot as plt\n",
    "import pandas as pd\n",
    "import numpy as np\n",
    "pd.options.mode.chained_assignment = None  # default='warn'"
   ]
  },
  {
   "cell_type": "code",
   "execution_count": 11,
   "metadata": {},
   "outputs": [],
   "source": [
    "df = pd.read_csv('https://docs.google.com/spreadsheets/d/e/2PACX-1vQmayUA3uJDXekrPDHrsXO-QRLXZAdu2Pc7zQTYlRJRxjUlp5Rm0W9cE28D_4Sv9zxdblaIKTxBOjn2/pub?gid=1684945782&single=true&output=csv')"
   ]
  },
  {
   "cell_type": "code",
   "execution_count": 12,
   "metadata": {},
   "outputs": [],
   "source": [
    "df.School_Pay = pd.to_numeric(df.School_Pay, errors='coerce')\n",
    "df.Total_Pay = pd.to_numeric(df.Total_Pay, errors='coerce')\n",
    "df.Max_Bonus = pd.to_numeric(df.Max_Bonus, errors='coerce')\n",
    "df.Bonuses_Paid = pd.to_numeric(df.Bonuses_Paid, errors='coerce')\n",
    "df.Asst_Pay_total = pd.to_numeric(df.Asst_Pay_total, errors='coerce')"
   ]
  },
  {
   "cell_type": "code",
   "execution_count": 13,
   "metadata": {},
   "outputs": [
    {
     "data": {
      "text/plain": [
       "Rank                int64\n",
       "School             object\n",
       "Conference         object\n",
       "Coach              object\n",
       "School_Pay        float64\n",
       "Total_Pay         float64\n",
       "Max_Bonus         float64\n",
       "Bonuses_Paid      float64\n",
       "Asst_Pay_total      int64\n",
       "School_Buyout      object\n",
       "dtype: object"
      ]
     },
     "execution_count": 13,
     "metadata": {},
     "output_type": "execute_result"
    }
   ],
   "source": [
    "df.dtypes"
   ]
  },
  {
   "cell_type": "code",
   "execution_count": 14,
   "metadata": {},
   "outputs": [],
   "source": [
    "dfpays = df[['School_Pay', 'Asst_Pay_total']]"
   ]
  },
  {
   "cell_type": "code",
   "execution_count": 15,
   "metadata": {},
   "outputs": [
    {
     "data": {
      "image/png": "[encoded data removed]",
      "text/plain": [
       "<matplotlib.figure.Figure at 0x7f2aafa50128>"
      ]
     },
     "metadata": {
      "needs_background": "light"
     },
     "output_type": "display_data"
    },
    {
     "data": {
      "text/html": [
       "<div>\n",
       "<style>\n",
       "    .dataframe thead tr:only-child th {\n",
       "        text-align: right;\n",
       "    }\n",
       "\n",
       "    .dataframe thead th {\n",
       "        text-align: left;\n",
       "    }\n",
       "\n",
       "    .dataframe tbody tr th {\n",
       "        vertical-align: top;\n",
       "    }\n",
       "</style>\n",
       "<table border=\"1\" class=\"dataframe\">\n",
       "  <thead>\n",
       "    <tr style=\"text-align: right;\">\n",
       "      <th></th>\n",
       "      <th>School_Pay</th>\n",
       "      <th>Asst_Pay_total</th>\n",
       "    </tr>\n",
       "  </thead>\n",
       "  <tbody>\n",
       "    <tr>\n",
       "      <th>School_Pay</th>\n",
       "      <td>1.000000</td>\n",
       "      <td>0.743799</td>\n",
       "    </tr>\n",
       "    <tr>\n",
       "      <th>Asst_Pay_total</th>\n",
       "      <td>0.743799</td>\n",
       "      <td>1.000000</td>\n",
       "    </tr>\n",
       "  </tbody>\n",
       "</table>\n",
       "</div>"
      ],
      "text/plain": [
       "                School_Pay  Asst_Pay_total\n",
       "School_Pay        1.000000        0.743799\n",
       "Asst_Pay_total    0.743799        1.000000"
      ]
     },
     "execution_count": 15,
     "metadata": {},
     "output_type": "execute_result"
    }
   ],
   "source": [
    "plt.scatter(dfpays.School_Pay, dfpays.Asst_Pay_total)\n",
    "plt.xlabel('Head Coach Pay')\n",
    "plt.ylabel('Total Pay of Assistant Coaches')\n",
    "plt.show()\n",
    "dfpays.corr()"
   ]
  },
  {
   "cell_type": "markdown",
   "metadata": {},
   "source": [
    "This plot looks pretty correlated, and has an r value of 0.744. However, there are several outlier points where assistants don't make any money. I think that these schools should be taken out, as they seem to be an exception to most of the data, and the schools who don't pay their assistants don't base this on how much their head coach is paid. "
   ]
  },
  {
   "cell_type": "code",
   "execution_count": 16,
   "metadata": {},
   "outputs": [],
   "source": [
    "dfpays = dfpays[dfpays.Asst_Pay_total > 0]"
   ]
  },
  {
   "cell_type": "code",
   "execution_count": 17,
   "metadata": {},
   "outputs": [
    {
     "data": {
      "image/png": "[encoded data removed]",
      "text/plain": [
       "<matplotlib.figure.Figure at 0x7f2aafa155c0>"
      ]
     },
     "metadata": {
      "needs_background": "light"
     },
     "output_type": "display_data"
    },
    {
     "data": {
      "text/html": [
       "<div>\n",
       "<style>\n",
       "    .dataframe thead tr:only-child th {\n",
       "        text-align: right;\n",
       "    }\n",
       "\n",
       "    .dataframe thead th {\n",
       "        text-align: left;\n",
       "    }\n",
       "\n",
       "    .dataframe tbody tr th {\n",
       "        vertical-align: top;\n",
       "    }\n",
       "</style>\n",
       "<table border=\"1\" class=\"dataframe\">\n",
       "  <thead>\n",
       "    <tr style=\"text-align: right;\">\n",
       "      <th></th>\n",
       "      <th>School_Pay</th>\n",
       "      <th>Asst_Pay_total</th>\n",
       "    </tr>\n",
       "  </thead>\n",
       "  <tbody>\n",
       "    <tr>\n",
       "      <th>School_Pay</th>\n",
       "      <td>1.000000</td>\n",
       "      <td>0.868372</td>\n",
       "    </tr>\n",
       "    <tr>\n",
       "      <th>Asst_Pay_total</th>\n",
       "      <td>0.868372</td>\n",
       "      <td>1.000000</td>\n",
       "    </tr>\n",
       "  </tbody>\n",
       "</table>\n",
       "</div>"
      ],
      "text/plain": [
       "                School_Pay  Asst_Pay_total\n",
       "School_Pay        1.000000        0.868372\n",
       "Asst_Pay_total    0.868372        1.000000"
      ]
     },
     "execution_count": 17,
     "metadata": {},
     "output_type": "execute_result"
    }
   ],
   "source": [
    "plt.scatter(dfpays.School_Pay, dfpays.Asst_Pay_total)\n",
    "plt.xlabel('Head Coach Pay')\n",
    "plt.ylabel('Total Pay of Assistant Coaches')\n",
    "plt.show()\n",
    "dfpays.corr()"
   ]
  },
  {
   "cell_type": "markdown",
   "metadata": {},
   "source": [
    "Overall, there are still about three outlier points, but the data still apears very linear and has an R-value of 0.868. This means that there is a correlation between how much a school pays its head football coach and how much a school pays all of its assistance coaches. this makes sense, because huge football schools like Alabama are probably willing to shell out a ton of money to both Nick Saban and all of their assistant coaches because of how large their budgets. The bigger the budget, the more the head coach and the assistant coaches get paid, as seen in this graph. "
   ]
  },
  {
   "cell_type": "code",
   "execution_count": null,
   "metadata": {},
   "outputs": [],
   "source": []
  }
 ],
 "metadata": {
  "kernelspec": {
   "display_name": "Python 3",
   "language": "python",
   "name": "python3"
  },
  "language_info": {
   "codemirror_mode": {
    "name": "ipython",
    "version": 3
   },
   "file_extension": ".py",
   "mimetype": "text/x-python",
   "name": "python",
   "nbconvert_exporter": "python",
   "pygments_lexer": "ipython3",
   "version": "3.5.2"
  }
 },
 "nbformat": 4,
 "nbformat_minor": 2
}
